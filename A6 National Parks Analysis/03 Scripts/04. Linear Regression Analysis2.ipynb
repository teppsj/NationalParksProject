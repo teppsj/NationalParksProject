{
 "cells": [
  {
   "cell_type": "markdown",
   "id": "b0f9bc55",
   "metadata": {},
   "source": [
    "# Linear Regression Analysis\n",
    "### Table of Contents:\n",
    "\n",
    "01. Libraries Import\n",
    "02. Data Import\n",
    "03. Data Cleaning\n",
    "04. Data Prep for Regression Analysis\n",
    "05. Regression Analysis\n",
    "06. Final Observations"
   ]
  },
  {
   "cell_type": "markdown",
   "id": "4f03fd22",
   "metadata": {},
   "source": [
    "## 01. Libraries Import"
   ]
  },
  {
   "cell_type": "code",
   "execution_count": 1,
   "id": "1939c3be",
   "metadata": {},
   "outputs": [],
   "source": [
    "import pandas as pd\n",
    "import numpy as np\n",
    "import seaborn as sns\n",
    "import matplotlib\n",
    "import matplotlib.pyplot as plt\n",
    "import os\n",
    "import sklearn\n",
    "from sklearn.model_selection import train_test_split \n",
    "from sklearn.linear_model import LinearRegression\n",
    "from sklearn.metrics import mean_squared_error, r2_score"
   ]
  },
  {
   "cell_type": "code",
   "execution_count": 2,
   "id": "f95843dc",
   "metadata": {},
   "outputs": [],
   "source": [
    "# Adjusting the settings so that charts created are displayed in the notebook without the need to \"call\" them specifically.\n",
    "\n",
    "%matplotlib inline"
   ]
  },
  {
   "cell_type": "markdown",
   "id": "a77922b2",
   "metadata": {},
   "source": [
    "## 02. Data Import"
   ]
  },
  {
   "cell_type": "code",
   "execution_count": 3,
   "id": "680ed713",
   "metadata": {},
   "outputs": [],
   "source": [
    "# Create a string path\n",
    "\n",
    "path = r'C:\\Users\\rasmu\\Documents\\CareerFoundry\\A6 National Parks Analysis'"
   ]
  },
  {
   "cell_type": "code",
   "execution_count": 4,
   "id": "f969f7f0",
   "metadata": {},
   "outputs": [],
   "source": [
    "# Import data\n",
    "\n",
    "df = pd.read_csv(os.path.join(path, '02 Data', 'Prepd Data', 'NatlParks_clean.csv'))"
   ]
  },
  {
   "cell_type": "markdown",
   "id": "0f410a0c",
   "metadata": {},
   "source": [
    "## 03. Data Cleaning"
   ]
  },
  {
   "cell_type": "code",
   "execution_count": 5,
   "id": "e4b8ba94",
   "metadata": {},
   "outputs": [
    {
     "data": {
      "text/plain": [
       "Index(['Unnamed: 0', 'ParkName', 'UnitCode', 'Region', 'State', 'Year',\n",
       "       'Month', 'RecVisits', 'NonRecVisits', 'RecHours', 'NonRecHours',\n",
       "       'TentCampers', 'RVCampers', 'Backcountry', 'RecHrsRange'],\n",
       "      dtype='object')"
      ]
     },
     "execution_count": 5,
     "metadata": {},
     "output_type": "execute_result"
    }
   ],
   "source": [
    "df.columns"
   ]
  },
  {
   "cell_type": "code",
   "execution_count": 6,
   "id": "71048ee7",
   "metadata": {},
   "outputs": [],
   "source": [
    "# Need to drop the 'Unnamed: 0' column\n",
    "\n",
    "df = df.drop(columns = ['Unnamed: 0'])"
   ]
  },
  {
   "cell_type": "code",
   "execution_count": 7,
   "id": "cf7f85cd",
   "metadata": {},
   "outputs": [
    {
     "data": {
      "text/plain": [
       "(7560, 14)"
      ]
     },
     "execution_count": 7,
     "metadata": {},
     "output_type": "execute_result"
    }
   ],
   "source": [
    "df.shape"
   ]
  },
  {
   "cell_type": "code",
   "execution_count": 8,
   "id": "dec8a733",
   "metadata": {},
   "outputs": [
    {
     "data": {
      "text/plain": [
       "ParkName        0\n",
       "UnitCode        0\n",
       "Region          0\n",
       "State           0\n",
       "Year            0\n",
       "Month           0\n",
       "RecVisits       0\n",
       "NonRecVisits    0\n",
       "RecHours        0\n",
       "NonRecHours     0\n",
       "TentCampers     0\n",
       "RVCampers       0\n",
       "Backcountry     0\n",
       "RecHrsRange     0\n",
       "dtype: int64"
      ]
     },
     "execution_count": 8,
     "metadata": {},
     "output_type": "execute_result"
    }
   ],
   "source": [
    "# Check for missing values\n",
    "\n",
    "df.isnull().sum()"
   ]
  },
  {
   "cell_type": "markdown",
   "id": "f83d9444",
   "metadata": {},
   "source": [
    "No missing values."
   ]
  },
  {
   "cell_type": "code",
   "execution_count": 9,
   "id": "5af5db11",
   "metadata": {},
   "outputs": [],
   "source": [
    "# Duplicates check\n",
    "dups = df.duplicated()"
   ]
  },
  {
   "cell_type": "code",
   "execution_count": 10,
   "id": "bf991f1c",
   "metadata": {},
   "outputs": [
    {
     "data": {
      "text/plain": [
       "(7560,)"
      ]
     },
     "execution_count": 10,
     "metadata": {},
     "output_type": "execute_result"
    }
   ],
   "source": [
    "dups.shape"
   ]
  },
  {
   "cell_type": "markdown",
   "id": "0b28f7a7",
   "metadata": {},
   "source": [
    "No duplicates."
   ]
  },
  {
   "cell_type": "markdown",
   "id": "b4d53eb5",
   "metadata": {},
   "source": [
    "## 04. Data Prep for Regression Analysis"
   ]
  },
  {
   "cell_type": "code",
   "execution_count": 12,
   "id": "caa51bf0",
   "metadata": {},
   "outputs": [
    {
     "data": {
      "image/png": "[encoded data removed]",
      "text/plain": [
       "<Figure size 432x288 with 1 Axes>"
      ]
     },
     "metadata": {
      "needs_background": "light"
     },
     "output_type": "display_data"
    }
   ],
   "source": [
    "# Creating a scatterplot using matplotlib for a look at how the variables plot against each other.\n",
    "\n",
    "df.plot(x = 'RecHours', y='RVCampers',style='o')\n",
    "plt.title('# of Recreation Hours vs RV Camping #s')  \n",
    "plt.xlabel('Rec Hours')  \n",
    "plt.ylabel('RV Campers')  \n",
    "plt.show()"
   ]
  },
  {
   "cell_type": "markdown",
   "id": "b0191d1f",
   "metadata": {},
   "source": [
    "### Hypothesis\n",
    "The greater the amount of recreation hours per national park, the greater the amount of RV Campers in the parks."
   ]
  },
  {
   "cell_type": "code",
   "execution_count": 13,
   "id": "97cc3a38",
   "metadata": {},
   "outputs": [],
   "source": [
    "# Reshaping the variables into NumPy arrays\n",
    "\n",
    "X = df['RecHours'].values.reshape(-1,1)\n",
    "y = df['RVCampers'].values.reshape(-1,1)"
   ]
  },
  {
   "cell_type": "code",
   "execution_count": 14,
   "id": "e071b677",
   "metadata": {},
   "outputs": [
    {
     "data": {
      "text/plain": [
       "array([[  78738],\n",
       "       [  81758],\n",
       "       [ 149716],\n",
       "       ...,\n",
       "       [2902495],\n",
       "       [1932994],\n",
       "       [1321213]], dtype=int64)"
      ]
     },
     "execution_count": 14,
     "metadata": {},
     "output_type": "execute_result"
    }
   ],
   "source": [
    "X"
   ]
  },
  {
   "cell_type": "code",
   "execution_count": 15,
   "id": "40380e15",
   "metadata": {},
   "outputs": [
    {
     "data": {
      "text/plain": [
       "array([[   0],\n",
       "       [   0],\n",
       "       [   0],\n",
       "       ...,\n",
       "       [7181],\n",
       "       [5431],\n",
       "       [4798]], dtype=int64)"
      ]
     },
     "execution_count": 15,
     "metadata": {},
     "output_type": "execute_result"
    }
   ],
   "source": [
    "y"
   ]
  },
  {
   "cell_type": "code",
   "execution_count": 16,
   "id": "ed306418",
   "metadata": {},
   "outputs": [],
   "source": [
    "# Spliting data into a training set and a test set\n",
    "\n",
    "X_train, X_test, y_train, y_test = train_test_split(X, y, test_size=0.3, random_state=0)"
   ]
  },
  {
   "cell_type": "markdown",
   "id": "b663cfe5",
   "metadata": {},
   "source": [
    "## 05. Regression Analysis"
   ]
  },
  {
   "cell_type": "code",
   "execution_count": 17,
   "id": "dc0872cf",
   "metadata": {},
   "outputs": [],
   "source": [
    "# Creating a regression object\n",
    "\n",
    "regression = LinearRegression()  "
   ]
  },
  {
   "cell_type": "code",
   "execution_count": 18,
   "id": "77187457",
   "metadata": {},
   "outputs": [
    {
     "data": {
      "text/plain": [
       "LinearRegression()"
      ]
     },
     "execution_count": 18,
     "metadata": {},
     "output_type": "execute_result"
    }
   ],
   "source": [
    "# Fitting the regression object onto the training set\n",
    "\n",
    "regression.fit(X_train, y_train)"
   ]
  },
  {
   "cell_type": "code",
   "execution_count": 19,
   "id": "9702cf73",
   "metadata": {},
   "outputs": [],
   "source": [
    "# Predicting the values of y using X.\n",
    "\n",
    "y_predicted = regression.predict(X_test)"
   ]
  },
  {
   "cell_type": "code",
   "execution_count": 20,
   "id": "263a9f24",
   "metadata": {},
   "outputs": [
    {
     "data": {
      "image/png": "[encoded data removed]",
      "text/plain": [
       "<Figure size 432x288 with 1 Axes>"
      ]
     },
     "metadata": {
      "needs_background": "light"
     },
     "output_type": "display_data"
    }
   ],
   "source": [
    "# Creating a plot that shows the regression line from the model on the test set\n",
    "\n",
    "plot_test = plt\n",
    "plot_test.scatter(X_test, y_test, color='gray', s = 15)\n",
    "plot_test.plot(X_test, y_predicted, color='red', linewidth =3)\n",
    "plot_test.title('# of Recreation Hours vs RV Campers #s (Test set)')\n",
    "plot_test.xlabel('Recreation Hours')\n",
    "plot_test.ylabel('RV Campers')\n",
    "plot_test.show()"
   ]
  },
  {
   "cell_type": "markdown",
   "id": "19a71717",
   "metadata": {},
   "source": [
    "#### Regression Line Observations\n",
    "\n",
    "It's really hard to tell how acurate it is. It looks very close in the low levels of recreation hours, but once we get past 7,500,000 hours, data points look to be pretty far away from the line."
   ]
  },
  {
   "cell_type": "code",
   "execution_count": 21,
   "id": "7e61e51b",
   "metadata": {},
   "outputs": [],
   "source": [
    "# Creating objects that contain the model summary statistics\n",
    "\n",
    "rmse = mean_squared_error(y_test, y_predicted)\n",
    "r2 = r2_score(y_test, y_predicted)"
   ]
  },
  {
   "cell_type": "code",
   "execution_count": 22,
   "id": "132b4b40",
   "metadata": {},
   "outputs": [
    {
     "name": "stdout",
     "output_type": "stream",
     "text": [
      "Slope: [[0.00162926]]\n",
      "Mean squared error:  9372150.510007624\n",
      "R2 score:  0.5646997979046633\n"
     ]
    }
   ],
   "source": [
    "# Determining the model summary statistics\n",
    "\n",
    "print('Slope:' ,regression.coef_)\n",
    "print('Mean squared error: ', rmse)\n",
    "print('R2 score: ', r2)"
   ]
  },
  {
   "cell_type": "code",
   "execution_count": 23,
   "id": "1c44aa33",
   "metadata": {},
   "outputs": [
    {
     "data": {
      "text/plain": [
       "array([[ 374.40388098],\n",
       "       [1131.61316786],\n",
       "       [1862.910672  ],\n",
       "       ...,\n",
       "       [2008.5536601 ],\n",
       "       [ 376.63596991],\n",
       "       [ 376.51540452]])"
      ]
     },
     "execution_count": 23,
     "metadata": {},
     "output_type": "execute_result"
    }
   ],
   "source": [
    "y_predicted"
   ]
  },
  {
   "cell_type": "code",
   "execution_count": 24,
   "id": "24961280",
   "metadata": {},
   "outputs": [
    {
     "data": {
      "text/html": [
       "<div>\n",
       "<style scoped>\n",
       "    .dataframe tbody tr th:only-of-type {\n",
       "        vertical-align: middle;\n",
       "    }\n",
       "\n",
       "    .dataframe tbody tr th {\n",
       "        vertical-align: top;\n",
       "    }\n",
       "\n",
       "    .dataframe thead th {\n",
       "        text-align: right;\n",
       "    }\n",
       "</style>\n",
       "<table border=\"1\" class=\"dataframe\">\n",
       "  <thead>\n",
       "    <tr style=\"text-align: right;\">\n",
       "      <th></th>\n",
       "      <th>Actual</th>\n",
       "      <th>Predicted</th>\n",
       "    </tr>\n",
       "  </thead>\n",
       "  <tbody>\n",
       "    <tr>\n",
       "      <th>0</th>\n",
       "      <td>0</td>\n",
       "      <td>374.403881</td>\n",
       "    </tr>\n",
       "    <tr>\n",
       "      <th>1</th>\n",
       "      <td>0</td>\n",
       "      <td>1131.613168</td>\n",
       "    </tr>\n",
       "    <tr>\n",
       "      <th>2</th>\n",
       "      <td>0</td>\n",
       "      <td>1862.910672</td>\n",
       "    </tr>\n",
       "    <tr>\n",
       "      <th>3</th>\n",
       "      <td>0</td>\n",
       "      <td>374.094321</td>\n",
       "    </tr>\n",
       "    <tr>\n",
       "      <th>4</th>\n",
       "      <td>0</td>\n",
       "      <td>476.464111</td>\n",
       "    </tr>\n",
       "    <tr>\n",
       "      <th>5</th>\n",
       "      <td>213</td>\n",
       "      <td>412.826767</td>\n",
       "    </tr>\n",
       "    <tr>\n",
       "      <th>6</th>\n",
       "      <td>2257</td>\n",
       "      <td>1351.840511</td>\n",
       "    </tr>\n",
       "    <tr>\n",
       "      <th>7</th>\n",
       "      <td>0</td>\n",
       "      <td>468.627361</td>\n",
       "    </tr>\n",
       "    <tr>\n",
       "      <th>8</th>\n",
       "      <td>0</td>\n",
       "      <td>549.697808</td>\n",
       "    </tr>\n",
       "    <tr>\n",
       "      <th>9</th>\n",
       "      <td>0</td>\n",
       "      <td>374.094321</td>\n",
       "    </tr>\n",
       "    <tr>\n",
       "      <th>10</th>\n",
       "      <td>0</td>\n",
       "      <td>456.606666</td>\n",
       "    </tr>\n",
       "    <tr>\n",
       "      <th>11</th>\n",
       "      <td>0</td>\n",
       "      <td>802.673318</td>\n",
       "    </tr>\n",
       "    <tr>\n",
       "      <th>12</th>\n",
       "      <td>27</td>\n",
       "      <td>424.645433</td>\n",
       "    </tr>\n",
       "    <tr>\n",
       "      <th>13</th>\n",
       "      <td>1198</td>\n",
       "      <td>1599.574685</td>\n",
       "    </tr>\n",
       "    <tr>\n",
       "      <th>14</th>\n",
       "      <td>0</td>\n",
       "      <td>637.964706</td>\n",
       "    </tr>\n",
       "    <tr>\n",
       "      <th>15</th>\n",
       "      <td>1030</td>\n",
       "      <td>921.210274</td>\n",
       "    </tr>\n",
       "    <tr>\n",
       "      <th>16</th>\n",
       "      <td>182</td>\n",
       "      <td>4752.851605</td>\n",
       "    </tr>\n",
       "    <tr>\n",
       "      <th>17</th>\n",
       "      <td>0</td>\n",
       "      <td>584.968072</td>\n",
       "    </tr>\n",
       "    <tr>\n",
       "      <th>18</th>\n",
       "      <td>0</td>\n",
       "      <td>8487.300942</td>\n",
       "    </tr>\n",
       "    <tr>\n",
       "      <th>19</th>\n",
       "      <td>4288</td>\n",
       "      <td>986.348169</td>\n",
       "    </tr>\n",
       "    <tr>\n",
       "      <th>20</th>\n",
       "      <td>0</td>\n",
       "      <td>553.109483</td>\n",
       "    </tr>\n",
       "    <tr>\n",
       "      <th>21</th>\n",
       "      <td>7</td>\n",
       "      <td>386.031924</td>\n",
       "    </tr>\n",
       "    <tr>\n",
       "      <th>22</th>\n",
       "      <td>893</td>\n",
       "      <td>1150.333388</td>\n",
       "    </tr>\n",
       "    <tr>\n",
       "      <th>23</th>\n",
       "      <td>648</td>\n",
       "      <td>891.235112</td>\n",
       "    </tr>\n",
       "    <tr>\n",
       "      <th>24</th>\n",
       "      <td>8469</td>\n",
       "      <td>10049.385204</td>\n",
       "    </tr>\n",
       "    <tr>\n",
       "      <th>25</th>\n",
       "      <td>1768</td>\n",
       "      <td>2668.800678</td>\n",
       "    </tr>\n",
       "    <tr>\n",
       "      <th>26</th>\n",
       "      <td>8</td>\n",
       "      <td>474.318373</td>\n",
       "    </tr>\n",
       "    <tr>\n",
       "      <th>27</th>\n",
       "      <td>106</td>\n",
       "      <td>1427.661477</td>\n",
       "    </tr>\n",
       "    <tr>\n",
       "      <th>28</th>\n",
       "      <td>0</td>\n",
       "      <td>580.220402</td>\n",
       "    </tr>\n",
       "    <tr>\n",
       "      <th>29</th>\n",
       "      <td>7308</td>\n",
       "      <td>4343.916621</td>\n",
       "    </tr>\n",
       "  </tbody>\n",
       "</table>\n",
       "</div>"
      ],
      "text/plain": [
       "    Actual     Predicted\n",
       "0        0    374.403881\n",
       "1        0   1131.613168\n",
       "2        0   1862.910672\n",
       "3        0    374.094321\n",
       "4        0    476.464111\n",
       "5      213    412.826767\n",
       "6     2257   1351.840511\n",
       "7        0    468.627361\n",
       "8        0    549.697808\n",
       "9        0    374.094321\n",
       "10       0    456.606666\n",
       "11       0    802.673318\n",
       "12      27    424.645433\n",
       "13    1198   1599.574685\n",
       "14       0    637.964706\n",
       "15    1030    921.210274\n",
       "16     182   4752.851605\n",
       "17       0    584.968072\n",
       "18       0   8487.300942\n",
       "19    4288    986.348169\n",
       "20       0    553.109483\n",
       "21       7    386.031924\n",
       "22     893   1150.333388\n",
       "23     648    891.235112\n",
       "24    8469  10049.385204\n",
       "25    1768   2668.800678\n",
       "26       8    474.318373\n",
       "27     106   1427.661477\n",
       "28       0    580.220402\n",
       "29    7308   4343.916621"
      ]
     },
     "execution_count": 24,
     "metadata": {},
     "output_type": "execute_result"
    }
   ],
   "source": [
    "# Creating a dataframe comparing the actual and predicted values of y\n",
    "\n",
    "data = pd.DataFrame({'Actual': y_test.flatten(), 'Predicted': y_predicted.flatten()})\n",
    "data.head(30)"
   ]
  },
  {
   "cell_type": "markdown",
   "id": "8267313e",
   "metadata": {},
   "source": [
    "## 06. Final Observations"
   ]
  },
  {
   "cell_type": "markdown",
   "id": "f2819f03",
   "metadata": {},
   "source": [
    "Sadly, the model did not seem to perform strong. An r2 of .565 and a MSE of 9,372,150 are indicators of that. While this is closer to 1 than 0, 56.5% still isn't strong enough.\n",
    "\n",
    "When looking at the actual vs predicted y dataframe, I'm confident that the 0s have a lot to do with it. If they were to be removed, perhaps, that might make the regression stronger. \n",
    "\n",
    "With taking a quick look at the actual cleaned data set, I can already tell that the data points where RV Camping is 0 happens more due to incliment weather and during the COVID-19 pandemic times when parks weren't allowing people to stay overnight.\n",
    "\n",
    "Perhaps the better indicators might be to remove data from 2020 altogether to even out things for that year. We'd still have annual averages, but they might be more reflective of how things were. Though, moving forward in the time of COVID, will things ever be like they previously were?\n",
    "\n",
    "There is some data I'm wondering if it would be okay to remove... specifically months of the year where camping isn't allowed in lands (i.e. Acadia National Park in Maine clearly doesn't allow camping in winter and early spring months). If all I have to compare with Visits/Hours data is the camping data, then that makes sense. However, if I'm trying to compare overall visit/hours numbers among the sites, I shouldn't remove the data."
   ]
  }
 ],
 "metadata": {
  "kernelspec": {
   "display_name": "Python 3",
   "language": "python",
   "name": "python3"
  },
  "language_info": {
   "codemirror_mode": {
    "name": "ipython",
    "version": 3
   },
   "file_extension": ".py",
   "mimetype": "text/x-python",
   "name": "python",
   "nbconvert_exporter": "python",
   "pygments_lexer": "ipython3",
   "version": "3.8.8"
  }
 },
 "nbformat": 4,
 "nbformat_minor": 5
}
