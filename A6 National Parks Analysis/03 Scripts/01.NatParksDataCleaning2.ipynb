{
 "cells": [
  {
   "cell_type": "markdown",
   "id": "b091a75a",
   "metadata": {},
   "source": [
    "# NATIONAL PARKS VISITATION ANALYSIS\n",
    "### Table of Contents\n",
    "\n",
    "01. Libraries Import\n",
    "02. Data Import\n",
    "03. Data Wrangling\n",
    "- 3.1 Dropping Columns\n",
    "- 3.2 Data Consistency Checks\n",
    "- 3.3 Basic Statistics & Data Type Changing\n",
    "04. Export Data"
   ]
  },
  {
   "cell_type": "markdown",
   "id": "73fd6d95",
   "metadata": {},
   "source": [
    "## 01. Libraries Import"
   ]
  },
  {
   "cell_type": "code",
   "execution_count": 1,
   "id": "1c88269b",
   "metadata": {},
   "outputs": [],
   "source": [
    "# Libraries Imported\n",
    "\n",
    "import pandas as pd\n",
    "import numpy as np\n",
    "import os"
   ]
  },
  {
   "cell_type": "markdown",
   "id": "bea63a58",
   "metadata": {},
   "source": [
    "## 02. Data Import"
   ]
  },
  {
   "cell_type": "code",
   "execution_count": 2,
   "id": "18697b13",
   "metadata": {},
   "outputs": [],
   "source": [
    "# Create a string path\n",
    "\n",
    "path = r'C:\\Users\\rasmu\\Documents\\CareerFoundry\\A6 National Parks Analysis\\02 Data'"
   ]
  },
  {
   "cell_type": "code",
   "execution_count": 3,
   "id": "81448174",
   "metadata": {},
   "outputs": [],
   "source": [
    "# Importing Dataset \n",
    "\n",
    "df = pd.read_csv(os.path.join(path, 'Orig Data', 'NatlParksRawData.csv'))"
   ]
  },
  {
   "cell_type": "code",
   "execution_count": 4,
   "id": "491a1bea",
   "metadata": {},
   "outputs": [
    {
     "data": {
      "text/html": [
       "<div>\n",
       "<style scoped>\n",
       "    .dataframe tbody tr th:only-of-type {\n",
       "        vertical-align: middle;\n",
       "    }\n",
       "\n",
       "    .dataframe tbody tr th {\n",
       "        vertical-align: top;\n",
       "    }\n",
       "\n",
       "    .dataframe thead th {\n",
       "        text-align: right;\n",
       "    }\n",
       "</style>\n",
       "<table border=\"1\" class=\"dataframe\">\n",
       "  <thead>\n",
       "    <tr style=\"text-align: right;\">\n",
       "      <th></th>\n",
       "      <th>ParkName</th>\n",
       "      <th>UnitCode</th>\n",
       "      <th>ParkType</th>\n",
       "      <th>Region</th>\n",
       "      <th>State</th>\n",
       "      <th>Year</th>\n",
       "      <th>Month</th>\n",
       "      <th>RecreationVisits</th>\n",
       "      <th>NonRecreationVisits</th>\n",
       "      <th>RecreationHours</th>\n",
       "      <th>...</th>\n",
       "      <th>NonRecreationVisitsTotal</th>\n",
       "      <th>RecreationHoursTotal</th>\n",
       "      <th>NonRecreationHoursTotal</th>\n",
       "      <th>ConcessionerLodgingTotal</th>\n",
       "      <th>ConcessionerCampingTotal</th>\n",
       "      <th>TentCampersTotal</th>\n",
       "      <th>RVCampersTotal</th>\n",
       "      <th>BackcountryTotal</th>\n",
       "      <th>NonRecreationOvernightStaysTotal</th>\n",
       "      <th>MiscellaneousOvernightStaysTotal</th>\n",
       "    </tr>\n",
       "  </thead>\n",
       "  <tbody>\n",
       "    <tr>\n",
       "      <th>0</th>\n",
       "      <td>Acadia NP</td>\n",
       "      <td>ACAD</td>\n",
       "      <td>National Park</td>\n",
       "      <td>Northeast</td>\n",
       "      <td>ME</td>\n",
       "      <td>2012</td>\n",
       "      <td>1</td>\n",
       "      <td>11,930</td>\n",
       "      <td>600</td>\n",
       "      <td>78,738</td>\n",
       "      <td>...</td>\n",
       "      <td>47,100</td>\n",
       "      <td>12,458,831</td>\n",
       "      <td>47,100</td>\n",
       "      <td>0</td>\n",
       "      <td>0</td>\n",
       "      <td>124,482</td>\n",
       "      <td>26,760</td>\n",
       "      <td>1,316</td>\n",
       "      <td>0</td>\n",
       "      <td>8,083</td>\n",
       "    </tr>\n",
       "    <tr>\n",
       "      <th>1</th>\n",
       "      <td>Acadia NP</td>\n",
       "      <td>ACAD</td>\n",
       "      <td>National Park</td>\n",
       "      <td>Northeast</td>\n",
       "      <td>ME</td>\n",
       "      <td>2012</td>\n",
       "      <td>2</td>\n",
       "      <td>12,388</td>\n",
       "      <td>600</td>\n",
       "      <td>81,758</td>\n",
       "      <td>...</td>\n",
       "      <td>47,100</td>\n",
       "      <td>12,458,831</td>\n",
       "      <td>47,100</td>\n",
       "      <td>0</td>\n",
       "      <td>0</td>\n",
       "      <td>124,482</td>\n",
       "      <td>26,760</td>\n",
       "      <td>1,316</td>\n",
       "      <td>0</td>\n",
       "      <td>8,083</td>\n",
       "    </tr>\n",
       "    <tr>\n",
       "      <th>2</th>\n",
       "      <td>Acadia NP</td>\n",
       "      <td>ACAD</td>\n",
       "      <td>National Park</td>\n",
       "      <td>Northeast</td>\n",
       "      <td>ME</td>\n",
       "      <td>2012</td>\n",
       "      <td>3</td>\n",
       "      <td>22,684</td>\n",
       "      <td>600</td>\n",
       "      <td>149,716</td>\n",
       "      <td>...</td>\n",
       "      <td>47,100</td>\n",
       "      <td>12,458,831</td>\n",
       "      <td>47,100</td>\n",
       "      <td>0</td>\n",
       "      <td>0</td>\n",
       "      <td>124,482</td>\n",
       "      <td>26,760</td>\n",
       "      <td>1,316</td>\n",
       "      <td>0</td>\n",
       "      <td>8,083</td>\n",
       "    </tr>\n",
       "    <tr>\n",
       "      <th>3</th>\n",
       "      <td>Acadia NP</td>\n",
       "      <td>ACAD</td>\n",
       "      <td>National Park</td>\n",
       "      <td>Northeast</td>\n",
       "      <td>ME</td>\n",
       "      <td>2012</td>\n",
       "      <td>4</td>\n",
       "      <td>59,471</td>\n",
       "      <td>600</td>\n",
       "      <td>344,929</td>\n",
       "      <td>...</td>\n",
       "      <td>47,100</td>\n",
       "      <td>12,458,831</td>\n",
       "      <td>47,100</td>\n",
       "      <td>0</td>\n",
       "      <td>0</td>\n",
       "      <td>124,482</td>\n",
       "      <td>26,760</td>\n",
       "      <td>1,316</td>\n",
       "      <td>0</td>\n",
       "      <td>8,083</td>\n",
       "    </tr>\n",
       "    <tr>\n",
       "      <th>4</th>\n",
       "      <td>Acadia NP</td>\n",
       "      <td>ACAD</td>\n",
       "      <td>National Park</td>\n",
       "      <td>Northeast</td>\n",
       "      <td>ME</td>\n",
       "      <td>2012</td>\n",
       "      <td>5</td>\n",
       "      <td>157,406</td>\n",
       "      <td>7,500</td>\n",
       "      <td>894,751</td>\n",
       "      <td>...</td>\n",
       "      <td>47,100</td>\n",
       "      <td>12,458,831</td>\n",
       "      <td>47,100</td>\n",
       "      <td>0</td>\n",
       "      <td>0</td>\n",
       "      <td>124,482</td>\n",
       "      <td>26,760</td>\n",
       "      <td>1,316</td>\n",
       "      <td>0</td>\n",
       "      <td>8,083</td>\n",
       "    </tr>\n",
       "  </tbody>\n",
       "</table>\n",
       "<p>5 rows × 35 columns</p>\n",
       "</div>"
      ],
      "text/plain": [
       "    ParkName UnitCode       ParkType      Region State  Year  Month  \\\n",
       "0  Acadia NP     ACAD  National Park  Northeast     ME  2012      1   \n",
       "1  Acadia NP     ACAD  National Park  Northeast     ME  2012      2   \n",
       "2  Acadia NP     ACAD  National Park  Northeast     ME  2012      3   \n",
       "3  Acadia NP     ACAD  National Park  Northeast     ME  2012      4   \n",
       "4  Acadia NP     ACAD  National Park  Northeast     ME  2012      5   \n",
       "\n",
       "  RecreationVisits NonRecreationVisits RecreationHours  ...  \\\n",
       "0           11,930                 600          78,738  ...   \n",
       "1           12,388                 600          81,758  ...   \n",
       "2           22,684                 600         149,716  ...   \n",
       "3           59,471                 600         344,929  ...   \n",
       "4          157,406               7,500         894,751  ...   \n",
       "\n",
       "  NonRecreationVisitsTotal RecreationHoursTotal NonRecreationHoursTotal  \\\n",
       "0                   47,100           12,458,831                  47,100   \n",
       "1                   47,100           12,458,831                  47,100   \n",
       "2                   47,100           12,458,831                  47,100   \n",
       "3                   47,100           12,458,831                  47,100   \n",
       "4                   47,100           12,458,831                  47,100   \n",
       "\n",
       "  ConcessionerLodgingTotal ConcessionerCampingTotal TentCampersTotal  \\\n",
       "0                        0                        0          124,482   \n",
       "1                        0                        0          124,482   \n",
       "2                        0                        0          124,482   \n",
       "3                        0                        0          124,482   \n",
       "4                        0                        0          124,482   \n",
       "\n",
       "  RVCampersTotal BackcountryTotal NonRecreationOvernightStaysTotal  \\\n",
       "0         26,760            1,316                                0   \n",
       "1         26,760            1,316                                0   \n",
       "2         26,760            1,316                                0   \n",
       "3         26,760            1,316                                0   \n",
       "4         26,760            1,316                                0   \n",
       "\n",
       "  MiscellaneousOvernightStaysTotal  \n",
       "0                            8,083  \n",
       "1                            8,083  \n",
       "2                            8,083  \n",
       "3                            8,083  \n",
       "4                            8,083  \n",
       "\n",
       "[5 rows x 35 columns]"
      ]
     },
     "execution_count": 4,
     "metadata": {},
     "output_type": "execute_result"
    }
   ],
   "source": [
    "# Print head\n",
    "\n",
    "df.head()"
   ]
  },
  {
   "cell_type": "code",
   "execution_count": 5,
   "id": "e967876a",
   "metadata": {},
   "outputs": [
    {
     "data": {
      "text/html": [
       "<div>\n",
       "<style scoped>\n",
       "    .dataframe tbody tr th:only-of-type {\n",
       "        vertical-align: middle;\n",
       "    }\n",
       "\n",
       "    .dataframe tbody tr th {\n",
       "        vertical-align: top;\n",
       "    }\n",
       "\n",
       "    .dataframe thead th {\n",
       "        text-align: right;\n",
       "    }\n",
       "</style>\n",
       "<table border=\"1\" class=\"dataframe\">\n",
       "  <thead>\n",
       "    <tr style=\"text-align: right;\">\n",
       "      <th></th>\n",
       "      <th>ParkName</th>\n",
       "      <th>UnitCode</th>\n",
       "      <th>ParkType</th>\n",
       "      <th>Region</th>\n",
       "      <th>State</th>\n",
       "      <th>Year</th>\n",
       "      <th>Month</th>\n",
       "      <th>RecreationVisits</th>\n",
       "      <th>NonRecreationVisits</th>\n",
       "      <th>RecreationHours</th>\n",
       "      <th>...</th>\n",
       "      <th>NonRecreationVisitsTotal</th>\n",
       "      <th>RecreationHoursTotal</th>\n",
       "      <th>NonRecreationHoursTotal</th>\n",
       "      <th>ConcessionerLodgingTotal</th>\n",
       "      <th>ConcessionerCampingTotal</th>\n",
       "      <th>TentCampersTotal</th>\n",
       "      <th>RVCampersTotal</th>\n",
       "      <th>BackcountryTotal</th>\n",
       "      <th>NonRecreationOvernightStaysTotal</th>\n",
       "      <th>MiscellaneousOvernightStaysTotal</th>\n",
       "    </tr>\n",
       "  </thead>\n",
       "  <tbody>\n",
       "    <tr>\n",
       "      <th>7555</th>\n",
       "      <td>Zion NP</td>\n",
       "      <td>ZION</td>\n",
       "      <td>National Park</td>\n",
       "      <td>Intermountain</td>\n",
       "      <td>UT</td>\n",
       "      <td>2021</td>\n",
       "      <td>8</td>\n",
       "      <td>466,928</td>\n",
       "      <td>1,860</td>\n",
       "      <td>3,105,093</td>\n",
       "      <td>...</td>\n",
       "      <td>21,900</td>\n",
       "      <td>31,553,998</td>\n",
       "      <td>5,475</td>\n",
       "      <td>55,454</td>\n",
       "      <td>0</td>\n",
       "      <td>138,730</td>\n",
       "      <td>89,919</td>\n",
       "      <td>15,071</td>\n",
       "      <td>0</td>\n",
       "      <td>7,969</td>\n",
       "    </tr>\n",
       "    <tr>\n",
       "      <th>7556</th>\n",
       "      <td>Zion NP</td>\n",
       "      <td>ZION</td>\n",
       "      <td>National Park</td>\n",
       "      <td>Intermountain</td>\n",
       "      <td>UT</td>\n",
       "      <td>2021</td>\n",
       "      <td>9</td>\n",
       "      <td>483,180</td>\n",
       "      <td>1,800</td>\n",
       "      <td>3,076,210</td>\n",
       "      <td>...</td>\n",
       "      <td>21,900</td>\n",
       "      <td>31,553,998</td>\n",
       "      <td>5,475</td>\n",
       "      <td>55,454</td>\n",
       "      <td>0</td>\n",
       "      <td>138,730</td>\n",
       "      <td>89,919</td>\n",
       "      <td>15,071</td>\n",
       "      <td>0</td>\n",
       "      <td>7,969</td>\n",
       "    </tr>\n",
       "    <tr>\n",
       "      <th>7557</th>\n",
       "      <td>Zion NP</td>\n",
       "      <td>ZION</td>\n",
       "      <td>National Park</td>\n",
       "      <td>Intermountain</td>\n",
       "      <td>UT</td>\n",
       "      <td>2021</td>\n",
       "      <td>10</td>\n",
       "      <td>469,379</td>\n",
       "      <td>1,860</td>\n",
       "      <td>2,902,495</td>\n",
       "      <td>...</td>\n",
       "      <td>21,900</td>\n",
       "      <td>31,553,998</td>\n",
       "      <td>5,475</td>\n",
       "      <td>55,454</td>\n",
       "      <td>0</td>\n",
       "      <td>138,730</td>\n",
       "      <td>89,919</td>\n",
       "      <td>15,071</td>\n",
       "      <td>0</td>\n",
       "      <td>7,969</td>\n",
       "    </tr>\n",
       "    <tr>\n",
       "      <th>7558</th>\n",
       "      <td>Zion NP</td>\n",
       "      <td>ZION</td>\n",
       "      <td>National Park</td>\n",
       "      <td>Intermountain</td>\n",
       "      <td>UT</td>\n",
       "      <td>2021</td>\n",
       "      <td>11</td>\n",
       "      <td>308,560</td>\n",
       "      <td>1,800</td>\n",
       "      <td>1,932,994</td>\n",
       "      <td>...</td>\n",
       "      <td>21,900</td>\n",
       "      <td>31,553,998</td>\n",
       "      <td>5,475</td>\n",
       "      <td>55,454</td>\n",
       "      <td>0</td>\n",
       "      <td>138,730</td>\n",
       "      <td>89,919</td>\n",
       "      <td>15,071</td>\n",
       "      <td>0</td>\n",
       "      <td>7,969</td>\n",
       "    </tr>\n",
       "    <tr>\n",
       "      <th>7559</th>\n",
       "      <td>Zion NP</td>\n",
       "      <td>ZION</td>\n",
       "      <td>National Park</td>\n",
       "      <td>Intermountain</td>\n",
       "      <td>UT</td>\n",
       "      <td>2021</td>\n",
       "      <td>12</td>\n",
       "      <td>211,983</td>\n",
       "      <td>1,860</td>\n",
       "      <td>1,321,213</td>\n",
       "      <td>...</td>\n",
       "      <td>21,900</td>\n",
       "      <td>31,553,998</td>\n",
       "      <td>5,475</td>\n",
       "      <td>55,454</td>\n",
       "      <td>0</td>\n",
       "      <td>138,730</td>\n",
       "      <td>89,919</td>\n",
       "      <td>15,071</td>\n",
       "      <td>0</td>\n",
       "      <td>7,969</td>\n",
       "    </tr>\n",
       "  </tbody>\n",
       "</table>\n",
       "<p>5 rows × 35 columns</p>\n",
       "</div>"
      ],
      "text/plain": [
       "     ParkName UnitCode       ParkType          Region State  Year  Month  \\\n",
       "7555  Zion NP     ZION  National Park  Intermountain     UT  2021      8   \n",
       "7556  Zion NP     ZION  National Park  Intermountain     UT  2021      9   \n",
       "7557  Zion NP     ZION  National Park  Intermountain     UT  2021     10   \n",
       "7558  Zion NP     ZION  National Park  Intermountain     UT  2021     11   \n",
       "7559  Zion NP     ZION  National Park  Intermountain     UT  2021     12   \n",
       "\n",
       "     RecreationVisits NonRecreationVisits RecreationHours  ...  \\\n",
       "7555          466,928               1,860       3,105,093  ...   \n",
       "7556          483,180               1,800       3,076,210  ...   \n",
       "7557          469,379               1,860       2,902,495  ...   \n",
       "7558          308,560               1,800       1,932,994  ...   \n",
       "7559          211,983               1,860       1,321,213  ...   \n",
       "\n",
       "     NonRecreationVisitsTotal RecreationHoursTotal NonRecreationHoursTotal  \\\n",
       "7555                   21,900           31,553,998                   5,475   \n",
       "7556                   21,900           31,553,998                   5,475   \n",
       "7557                   21,900           31,553,998                   5,475   \n",
       "7558                   21,900           31,553,998                   5,475   \n",
       "7559                   21,900           31,553,998                   5,475   \n",
       "\n",
       "     ConcessionerLodgingTotal ConcessionerCampingTotal TentCampersTotal  \\\n",
       "7555                   55,454                        0          138,730   \n",
       "7556                   55,454                        0          138,730   \n",
       "7557                   55,454                        0          138,730   \n",
       "7558                   55,454                        0          138,730   \n",
       "7559                   55,454                        0          138,730   \n",
       "\n",
       "     RVCampersTotal BackcountryTotal NonRecreationOvernightStaysTotal  \\\n",
       "7555         89,919           15,071                                0   \n",
       "7556         89,919           15,071                                0   \n",
       "7557         89,919           15,071                                0   \n",
       "7558         89,919           15,071                                0   \n",
       "7559         89,919           15,071                                0   \n",
       "\n",
       "     MiscellaneousOvernightStaysTotal  \n",
       "7555                            7,969  \n",
       "7556                            7,969  \n",
       "7557                            7,969  \n",
       "7558                            7,969  \n",
       "7559                            7,969  \n",
       "\n",
       "[5 rows x 35 columns]"
      ]
     },
     "execution_count": 5,
     "metadata": {},
     "output_type": "execute_result"
    }
   ],
   "source": [
    "# Print tail\n",
    "\n",
    "df.tail()"
   ]
  },
  {
   "cell_type": "code",
   "execution_count": 6,
   "id": "469cf408",
   "metadata": {},
   "outputs": [
    {
     "data": {
      "text/plain": [
       "(7560, 35)"
      ]
     },
     "execution_count": 6,
     "metadata": {},
     "output_type": "execute_result"
    }
   ],
   "source": [
    "# Print shape\n",
    "\n",
    "df.shape"
   ]
  },
  {
   "cell_type": "code",
   "execution_count": 7,
   "id": "36232d85",
   "metadata": {
    "scrolled": false
   },
   "outputs": [
    {
     "data": {
      "text/plain": [
       "ParkName                            object\n",
       "UnitCode                            object\n",
       "ParkType                            object\n",
       "Region                              object\n",
       "State                               object\n",
       "Year                                 int64\n",
       "Month                                int64\n",
       "RecreationVisits                    object\n",
       "NonRecreationVisits                 object\n",
       "RecreationHours                     object\n",
       "NonRecreationHours                  object\n",
       "ConcessionerLodging                 object\n",
       "ConcessionerCamping                 object\n",
       "TentCampers                         object\n",
       "RVCampers                           object\n",
       "Backcountry                         object\n",
       "NonRecreationOvernightStays         object\n",
       "MiscellaneousOvernightStays         object\n",
       "ParkNameTotal                       object\n",
       "UnitCodeTotal                       object\n",
       "ParkTypeTotal                       object\n",
       "RegionTotal                         object\n",
       "StateTotal                          object\n",
       "YearTotal                            int64\n",
       "RecreationVisitsTotal               object\n",
       "NonRecreationVisitsTotal            object\n",
       "RecreationHoursTotal                object\n",
       "NonRecreationHoursTotal             object\n",
       "ConcessionerLodgingTotal            object\n",
       "ConcessionerCampingTotal            object\n",
       "TentCampersTotal                    object\n",
       "RVCampersTotal                      object\n",
       "BackcountryTotal                    object\n",
       "NonRecreationOvernightStaysTotal    object\n",
       "MiscellaneousOvernightStaysTotal    object\n",
       "dtype: object"
      ]
     },
     "execution_count": 7,
     "metadata": {},
     "output_type": "execute_result"
    }
   ],
   "source": [
    "# Getting Full List of Columns & Gauge of Data Types\n",
    "\n",
    "df.dtypes"
   ]
  },
  {
   "cell_type": "markdown",
   "id": "25906587",
   "metadata": {},
   "source": [
    "## 03. Data Wrangling"
   ]
  },
  {
   "cell_type": "markdown",
   "id": "abbeed69",
   "metadata": {},
   "source": [
    "#### 3.1 Dropping Columns"
   ]
  },
  {
   "cell_type": "code",
   "execution_count": 8,
   "id": "aa3f98bb",
   "metadata": {},
   "outputs": [],
   "source": [
    "# The \"total\" columns are not needed and cause more confusion than needed. Also, 'ParkType', 'ConcessionerLodging', \n",
    "#'ConcessionerCamping', 'NonRecreationOvernightStays' & 'MiscellaneousOverNightStays' don't contribute to the park usage stats \n",
    "# that I'm intersted in after reading the stats definition document.\n",
    "\n",
    "df = df.drop(columns = ['ParkType', 'ConcessionerLodging', 'ConcessionerCamping', 'ParkNameTotal', 'UnitCodeTotal', \n",
    "                        'ParkTypeTotal', 'RegionTotal', 'StateTotal', 'YearTotal', 'RecreationVisitsTotal', \n",
    "                        'NonRecreationVisitsTotal', 'RecreationHoursTotal', 'ConcessionerLodgingTotal', \n",
    "                        'ConcessionerCampingTotal', 'TentCampersTotal', 'RVCampersTotal', 'BackcountryTotal', \n",
    "                        'NonRecreationOvernightStaysTotal', 'MiscellaneousOvernightStaysTotal', 'NonRecreationHoursTotal', \n",
    "                        'NonRecreationOvernightStays', 'MiscellaneousOvernightStays'])"
   ]
  },
  {
   "cell_type": "code",
   "execution_count": 9,
   "id": "98038dab",
   "metadata": {},
   "outputs": [
    {
     "data": {
      "text/plain": [
       "ParkName               object\n",
       "UnitCode               object\n",
       "Region                 object\n",
       "State                  object\n",
       "Year                    int64\n",
       "Month                   int64\n",
       "RecreationVisits       object\n",
       "NonRecreationVisits    object\n",
       "RecreationHours        object\n",
       "NonRecreationHours     object\n",
       "TentCampers            object\n",
       "RVCampers              object\n",
       "Backcountry            object\n",
       "dtype: object"
      ]
     },
     "execution_count": 9,
     "metadata": {},
     "output_type": "execute_result"
    }
   ],
   "source": [
    "# Checking column drops were successful\n",
    "\n",
    "df.dtypes"
   ]
  },
  {
   "cell_type": "markdown",
   "id": "c3572ecb",
   "metadata": {},
   "source": [
    "#### 3.2 Data Consistency Checks"
   ]
  },
  {
   "cell_type": "code",
   "execution_count": 10,
   "id": "85682f4d",
   "metadata": {},
   "outputs": [],
   "source": [
    "# Checking for columns with mixed data types\n",
    "\n",
    "for col in df.columns.tolist():\n",
    "  weird = (df[[col]].applymap(type) != df[[col]].iloc[0].apply(type)).any(axis = 1)\n",
    "  if len (df[weird]) > 0:\n",
    "    print (col)"
   ]
  },
  {
   "cell_type": "markdown",
   "id": "22f39e44",
   "metadata": {},
   "source": [
    "##### There are no mixed data types in this dataframe."
   ]
  },
  {
   "cell_type": "code",
   "execution_count": 11,
   "id": "a6d5b8c4",
   "metadata": {
    "scrolled": true
   },
   "outputs": [
    {
     "data": {
      "text/plain": [
       "ParkName               0\n",
       "UnitCode               0\n",
       "Region                 0\n",
       "State                  0\n",
       "Year                   0\n",
       "Month                  0\n",
       "RecreationVisits       0\n",
       "NonRecreationVisits    0\n",
       "RecreationHours        0\n",
       "NonRecreationHours     0\n",
       "TentCampers            0\n",
       "RVCampers              0\n",
       "Backcountry            0\n",
       "dtype: int64"
      ]
     },
     "execution_count": 11,
     "metadata": {},
     "output_type": "execute_result"
    }
   ],
   "source": [
    "# Checking for missing values\n",
    "\n",
    "df.isnull().sum()"
   ]
  },
  {
   "cell_type": "markdown",
   "id": "54c741f0",
   "metadata": {},
   "source": [
    "##### There are no missing values in this dataframe."
   ]
  },
  {
   "cell_type": "code",
   "execution_count": 12,
   "id": "f8323c87",
   "metadata": {},
   "outputs": [],
   "source": [
    "# Checking for duplicates (creating a new subset that will contain only duplicates)\n",
    "\n",
    "df_dups = df[df.duplicated()]"
   ]
  },
  {
   "cell_type": "code",
   "execution_count": 13,
   "id": "1ce96fed",
   "metadata": {},
   "outputs": [
    {
     "data": {
      "text/html": [
       "<div>\n",
       "<style scoped>\n",
       "    .dataframe tbody tr th:only-of-type {\n",
       "        vertical-align: middle;\n",
       "    }\n",
       "\n",
       "    .dataframe tbody tr th {\n",
       "        vertical-align: top;\n",
       "    }\n",
       "\n",
       "    .dataframe thead th {\n",
       "        text-align: right;\n",
       "    }\n",
       "</style>\n",
       "<table border=\"1\" class=\"dataframe\">\n",
       "  <thead>\n",
       "    <tr style=\"text-align: right;\">\n",
       "      <th></th>\n",
       "      <th>ParkName</th>\n",
       "      <th>UnitCode</th>\n",
       "      <th>Region</th>\n",
       "      <th>State</th>\n",
       "      <th>Year</th>\n",
       "      <th>Month</th>\n",
       "      <th>RecreationVisits</th>\n",
       "      <th>NonRecreationVisits</th>\n",
       "      <th>RecreationHours</th>\n",
       "      <th>NonRecreationHours</th>\n",
       "      <th>TentCampers</th>\n",
       "      <th>RVCampers</th>\n",
       "      <th>Backcountry</th>\n",
       "    </tr>\n",
       "  </thead>\n",
       "  <tbody>\n",
       "  </tbody>\n",
       "</table>\n",
       "</div>"
      ],
      "text/plain": [
       "Empty DataFrame\n",
       "Columns: [ParkName, UnitCode, Region, State, Year, Month, RecreationVisits, NonRecreationVisits, RecreationHours, NonRecreationHours, TentCampers, RVCampers, Backcountry]\n",
       "Index: []"
      ]
     },
     "execution_count": 13,
     "metadata": {},
     "output_type": "execute_result"
    }
   ],
   "source": [
    "# Printing df_dups\n",
    "\n",
    "df_dups"
   ]
  },
  {
   "cell_type": "markdown",
   "id": "259ed005",
   "metadata": {},
   "source": [
    "##### No duplicates to report."
   ]
  },
  {
   "cell_type": "markdown",
   "id": "a255e644",
   "metadata": {},
   "source": [
    "#### 3.3 Basic Statistics & Data Type Changing"
   ]
  },
  {
   "cell_type": "code",
   "execution_count": 14,
   "id": "6ec9cd6e",
   "metadata": {},
   "outputs": [
    {
     "data": {
      "text/html": [
       "<div>\n",
       "<style scoped>\n",
       "    .dataframe tbody tr th:only-of-type {\n",
       "        vertical-align: middle;\n",
       "    }\n",
       "\n",
       "    .dataframe tbody tr th {\n",
       "        vertical-align: top;\n",
       "    }\n",
       "\n",
       "    .dataframe thead th {\n",
       "        text-align: right;\n",
       "    }\n",
       "</style>\n",
       "<table border=\"1\" class=\"dataframe\">\n",
       "  <thead>\n",
       "    <tr style=\"text-align: right;\">\n",
       "      <th></th>\n",
       "      <th>Year</th>\n",
       "      <th>Month</th>\n",
       "    </tr>\n",
       "  </thead>\n",
       "  <tbody>\n",
       "    <tr>\n",
       "      <th>count</th>\n",
       "      <td>7560.000000</td>\n",
       "      <td>7560.000000</td>\n",
       "    </tr>\n",
       "    <tr>\n",
       "      <th>mean</th>\n",
       "      <td>2016.500000</td>\n",
       "      <td>6.500000</td>\n",
       "    </tr>\n",
       "    <tr>\n",
       "      <th>std</th>\n",
       "      <td>2.872471</td>\n",
       "      <td>3.452281</td>\n",
       "    </tr>\n",
       "    <tr>\n",
       "      <th>min</th>\n",
       "      <td>2012.000000</td>\n",
       "      <td>1.000000</td>\n",
       "    </tr>\n",
       "    <tr>\n",
       "      <th>25%</th>\n",
       "      <td>2014.000000</td>\n",
       "      <td>3.750000</td>\n",
       "    </tr>\n",
       "    <tr>\n",
       "      <th>50%</th>\n",
       "      <td>2016.500000</td>\n",
       "      <td>6.500000</td>\n",
       "    </tr>\n",
       "    <tr>\n",
       "      <th>75%</th>\n",
       "      <td>2019.000000</td>\n",
       "      <td>9.250000</td>\n",
       "    </tr>\n",
       "    <tr>\n",
       "      <th>max</th>\n",
       "      <td>2021.000000</td>\n",
       "      <td>12.000000</td>\n",
       "    </tr>\n",
       "  </tbody>\n",
       "</table>\n",
       "</div>"
      ],
      "text/plain": [
       "              Year        Month\n",
       "count  7560.000000  7560.000000\n",
       "mean   2016.500000     6.500000\n",
       "std       2.872471     3.452281\n",
       "min    2012.000000     1.000000\n",
       "25%    2014.000000     3.750000\n",
       "50%    2016.500000     6.500000\n",
       "75%    2019.000000     9.250000\n",
       "max    2021.000000    12.000000"
      ]
     },
     "execution_count": 14,
     "metadata": {},
     "output_type": "execute_result"
    }
   ],
   "source": [
    "# Checking Basic Statistics after consistency checks\n",
    "\n",
    "df.describe()"
   ]
  },
  {
   "cell_type": "code",
   "execution_count": 15,
   "id": "1db3f57f",
   "metadata": {},
   "outputs": [],
   "source": [
    "# Realization that in order to change variables to int64, I need to remove the commas from all numerical data.\n",
    "\n",
    "# Removing all commas\n",
    "\n",
    "df['RecreationVisits'] = df['RecreationVisits'].str.replace(',','')"
   ]
  },
  {
   "cell_type": "code",
   "execution_count": 16,
   "id": "6e8d30da",
   "metadata": {},
   "outputs": [
    {
     "data": {
      "text/plain": [
       "0        11930\n",
       "1        12388\n",
       "2        22684\n",
       "3        59471\n",
       "4       157406\n",
       "         ...  \n",
       "7555    466928\n",
       "7556    483180\n",
       "7557    469379\n",
       "7558    308560\n",
       "7559    211983\n",
       "Name: RecreationVisits, Length: 7560, dtype: object"
      ]
     },
     "execution_count": 16,
     "metadata": {},
     "output_type": "execute_result"
    }
   ],
   "source": [
    "# Checking that comma removal worked\n",
    "\n",
    "df['RecreationVisits']"
   ]
  },
  {
   "cell_type": "code",
   "execution_count": 17,
   "id": "c5bfbeb0",
   "metadata": {},
   "outputs": [],
   "source": [
    "# Variable data types need to be altered to pull statistics\n",
    "\n",
    "df['RecreationVisits'] = df['RecreationVisits'].astype('int64')"
   ]
  },
  {
   "cell_type": "code",
   "execution_count": 18,
   "id": "bd2b3f6e",
   "metadata": {},
   "outputs": [],
   "source": [
    "# Completing comma removal for rest of variables\n",
    "\n",
    "df['NonRecreationVisits'] = df['NonRecreationVisits'].str.replace(',','')"
   ]
  },
  {
   "cell_type": "code",
   "execution_count": 19,
   "id": "ceb8cc8d",
   "metadata": {},
   "outputs": [],
   "source": [
    "df['RecreationHours'] = df['RecreationHours'].str.replace(',','')"
   ]
  },
  {
   "cell_type": "code",
   "execution_count": 20,
   "id": "d91a900e",
   "metadata": {},
   "outputs": [],
   "source": [
    "df['NonRecreationHours'] = df['NonRecreationHours'].str.replace(',','')"
   ]
  },
  {
   "cell_type": "code",
   "execution_count": 21,
   "id": "b26e7a41",
   "metadata": {},
   "outputs": [],
   "source": [
    "df['TentCampers'] = df['TentCampers'].str.replace(',','')"
   ]
  },
  {
   "cell_type": "code",
   "execution_count": 22,
   "id": "00783809",
   "metadata": {},
   "outputs": [],
   "source": [
    "df['RVCampers'] = df['RVCampers'].str.replace(',','')"
   ]
  },
  {
   "cell_type": "code",
   "execution_count": 23,
   "id": "d6331de5",
   "metadata": {},
   "outputs": [],
   "source": [
    "df['Backcountry'] = df['Backcountry'].str.replace(',','')"
   ]
  },
  {
   "cell_type": "code",
   "execution_count": 24,
   "id": "c114bcac",
   "metadata": {},
   "outputs": [],
   "source": [
    "# Completing changing variable data types to pull statistics\n",
    "\n",
    "df['NonRecreationVisits'] = df['NonRecreationVisits'].astype('int64')"
   ]
  },
  {
   "cell_type": "code",
   "execution_count": 25,
   "id": "281f6e2a",
   "metadata": {},
   "outputs": [],
   "source": [
    "df['RecreationHours'] = df['RecreationHours'].astype('int64')"
   ]
  },
  {
   "cell_type": "code",
   "execution_count": 26,
   "id": "f17cb7dc",
   "metadata": {},
   "outputs": [],
   "source": [
    "df['NonRecreationHours'] = df['NonRecreationHours'].astype('int64')"
   ]
  },
  {
   "cell_type": "code",
   "execution_count": 27,
   "id": "3ad29d49",
   "metadata": {},
   "outputs": [],
   "source": [
    "df['TentCampers'] = df['TentCampers'].astype('int64')"
   ]
  },
  {
   "cell_type": "code",
   "execution_count": 28,
   "id": "2a2a7fba",
   "metadata": {},
   "outputs": [],
   "source": [
    "df['RVCampers'] = df['RVCampers'].astype('int64')"
   ]
  },
  {
   "cell_type": "code",
   "execution_count": 29,
   "id": "f9fb9043",
   "metadata": {},
   "outputs": [],
   "source": [
    "df['Backcountry'] = df['Backcountry'].astype('int64')"
   ]
  },
  {
   "cell_type": "code",
   "execution_count": 30,
   "id": "0e1bc66b",
   "metadata": {},
   "outputs": [],
   "source": [
    "df['Year'] = df['Year'].astype('str')"
   ]
  },
  {
   "cell_type": "code",
   "execution_count": 31,
   "id": "2d809592",
   "metadata": {},
   "outputs": [],
   "source": [
    "df['Month'] = df['Month'].astype('str')"
   ]
  },
  {
   "cell_type": "code",
   "execution_count": 32,
   "id": "8282168e",
   "metadata": {},
   "outputs": [
    {
     "data": {
      "text/plain": [
       "ParkName               object\n",
       "UnitCode               object\n",
       "Region                 object\n",
       "State                  object\n",
       "Year                   object\n",
       "Month                  object\n",
       "RecreationVisits        int64\n",
       "NonRecreationVisits     int64\n",
       "RecreationHours         int64\n",
       "NonRecreationHours      int64\n",
       "TentCampers             int64\n",
       "RVCampers               int64\n",
       "Backcountry             int64\n",
       "dtype: object"
      ]
     },
     "execution_count": 32,
     "metadata": {},
     "output_type": "execute_result"
    }
   ],
   "source": [
    "# Checking that datatype updates were correct\n",
    "\n",
    "df.dtypes"
   ]
  },
  {
   "cell_type": "code",
   "execution_count": 33,
   "id": "c41559be",
   "metadata": {},
   "outputs": [
    {
     "data": {
      "text/html": [
       "<div>\n",
       "<style scoped>\n",
       "    .dataframe tbody tr th:only-of-type {\n",
       "        vertical-align: middle;\n",
       "    }\n",
       "\n",
       "    .dataframe tbody tr th {\n",
       "        vertical-align: top;\n",
       "    }\n",
       "\n",
       "    .dataframe thead th {\n",
       "        text-align: right;\n",
       "    }\n",
       "</style>\n",
       "<table border=\"1\" class=\"dataframe\">\n",
       "  <thead>\n",
       "    <tr style=\"text-align: right;\">\n",
       "      <th></th>\n",
       "      <th>RecreationVisits</th>\n",
       "      <th>NonRecreationVisits</th>\n",
       "      <th>RecreationHours</th>\n",
       "      <th>NonRecreationHours</th>\n",
       "      <th>TentCampers</th>\n",
       "      <th>RVCampers</th>\n",
       "      <th>Backcountry</th>\n",
       "    </tr>\n",
       "  </thead>\n",
       "  <tbody>\n",
       "    <tr>\n",
       "      <th>count</th>\n",
       "      <td>7.560000e+03</td>\n",
       "      <td>7.560000e+03</td>\n",
       "      <td>7.560000e+03</td>\n",
       "      <td>7.560000e+03</td>\n",
       "      <td>7560.000000</td>\n",
       "      <td>7560.000000</td>\n",
       "      <td>7560.000000</td>\n",
       "    </tr>\n",
       "    <tr>\n",
       "      <th>mean</th>\n",
       "      <td>1.071895e+05</td>\n",
       "      <td>3.147685e+04</td>\n",
       "      <td>9.033467e+05</td>\n",
       "      <td>3.147685e+04</td>\n",
       "      <td>3263.246032</td>\n",
       "      <td>1853.780159</td>\n",
       "      <td>1758.758333</td>\n",
       "    </tr>\n",
       "    <tr>\n",
       "      <th>std</th>\n",
       "      <td>1.872928e+05</td>\n",
       "      <td>1.233625e+05</td>\n",
       "      <td>2.129197e+06</td>\n",
       "      <td>1.233625e+05</td>\n",
       "      <td>9027.343838</td>\n",
       "      <td>4882.539775</td>\n",
       "      <td>5362.823389</td>\n",
       "    </tr>\n",
       "    <tr>\n",
       "      <th>min</th>\n",
       "      <td>0.000000e+00</td>\n",
       "      <td>0.000000e+00</td>\n",
       "      <td>0.000000e+00</td>\n",
       "      <td>0.000000e+00</td>\n",
       "      <td>0.000000</td>\n",
       "      <td>0.000000</td>\n",
       "      <td>0.000000</td>\n",
       "    </tr>\n",
       "    <tr>\n",
       "      <th>25%</th>\n",
       "      <td>1.043525e+04</td>\n",
       "      <td>0.000000e+00</td>\n",
       "      <td>4.858450e+04</td>\n",
       "      <td>0.000000e+00</td>\n",
       "      <td>0.000000</td>\n",
       "      <td>0.000000</td>\n",
       "      <td>0.000000</td>\n",
       "    </tr>\n",
       "    <tr>\n",
       "      <th>50%</th>\n",
       "      <td>4.227950e+04</td>\n",
       "      <td>2.915000e+02</td>\n",
       "      <td>1.779150e+05</td>\n",
       "      <td>2.915000e+02</td>\n",
       "      <td>78.000000</td>\n",
       "      <td>0.000000</td>\n",
       "      <td>84.000000</td>\n",
       "    </tr>\n",
       "    <tr>\n",
       "      <th>75%</th>\n",
       "      <td>1.150022e+05</td>\n",
       "      <td>4.900000e+03</td>\n",
       "      <td>6.485528e+05</td>\n",
       "      <td>4.900000e+03</td>\n",
       "      <td>1717.750000</td>\n",
       "      <td>1168.000000</td>\n",
       "      <td>621.250000</td>\n",
       "    </tr>\n",
       "    <tr>\n",
       "      <th>max</th>\n",
       "      <td>1.739720e+06</td>\n",
       "      <td>1.334690e+06</td>\n",
       "      <td>2.021239e+07</td>\n",
       "      <td>1.334690e+06</td>\n",
       "      <td>145536.000000</td>\n",
       "      <td>78060.000000</td>\n",
       "      <td>62848.000000</td>\n",
       "    </tr>\n",
       "  </tbody>\n",
       "</table>\n",
       "</div>"
      ],
      "text/plain": [
       "       RecreationVisits  NonRecreationVisits  RecreationHours  \\\n",
       "count      7.560000e+03         7.560000e+03     7.560000e+03   \n",
       "mean       1.071895e+05         3.147685e+04     9.033467e+05   \n",
       "std        1.872928e+05         1.233625e+05     2.129197e+06   \n",
       "min        0.000000e+00         0.000000e+00     0.000000e+00   \n",
       "25%        1.043525e+04         0.000000e+00     4.858450e+04   \n",
       "50%        4.227950e+04         2.915000e+02     1.779150e+05   \n",
       "75%        1.150022e+05         4.900000e+03     6.485528e+05   \n",
       "max        1.739720e+06         1.334690e+06     2.021239e+07   \n",
       "\n",
       "       NonRecreationHours    TentCampers     RVCampers   Backcountry  \n",
       "count        7.560000e+03    7560.000000   7560.000000   7560.000000  \n",
       "mean         3.147685e+04    3263.246032   1853.780159   1758.758333  \n",
       "std          1.233625e+05    9027.343838   4882.539775   5362.823389  \n",
       "min          0.000000e+00       0.000000      0.000000      0.000000  \n",
       "25%          0.000000e+00       0.000000      0.000000      0.000000  \n",
       "50%          2.915000e+02      78.000000      0.000000     84.000000  \n",
       "75%          4.900000e+03    1717.750000   1168.000000    621.250000  \n",
       "max          1.334690e+06  145536.000000  78060.000000  62848.000000  "
      ]
     },
     "execution_count": 33,
     "metadata": {},
     "output_type": "execute_result"
    }
   ],
   "source": [
    "# Rechecking Basic Statistics after consistency checks\n",
    "\n",
    "df.describe()"
   ]
  },
  {
   "cell_type": "markdown",
   "id": "25cd6f6f",
   "metadata": {},
   "source": [
    "# 04. Export Data"
   ]
  },
  {
   "cell_type": "code",
   "execution_count": 34,
   "id": "8270bd59",
   "metadata": {},
   "outputs": [],
   "source": [
    "# Export df to Prepd Data folder\n",
    "\n",
    "df.to_csv(os.path.join(path, 'Prepd Data', 'NatlParks_clean.csv'))"
   ]
  }
 ],
 "metadata": {
  "kernelspec": {
   "display_name": "Python 3",
   "language": "python",
   "name": "python3"
  },
  "language_info": {
   "codemirror_mode": {
    "name": "ipython",
    "version": 3
   },
   "file_extension": ".py",
   "mimetype": "text/x-python",
   "name": "python",
   "nbconvert_exporter": "python",
   "pygments_lexer": "ipython3",
   "version": "3.8.8"
  }
 },
 "nbformat": 4,
 "nbformat_minor": 5
}
